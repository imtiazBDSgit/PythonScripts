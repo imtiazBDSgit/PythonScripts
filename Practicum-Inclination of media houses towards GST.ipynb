{
 "cells": [
  {
   "cell_type": "markdown",
   "metadata": {
    "collapsed": false
   },
   "source": [
    "## INCLINATION OF MEDIA HOUSES TOWARDS GST\n",
    "Submitted by \n",
    "Imtiaz khan\n",
    "\n",
    "\n",
    "## Table of Contents\n",
    "\n",
    "#### Introduction\n",
    "\n",
    "#### Approach and Methodology\n",
    "\n",
    "   ##### Data Collection through Google API\n",
    "   ##### Data Cleaning\n",
    "   ##### Data Analysis\n",
    "\n",
    "#### Conclusion\n",
    "\n",
    "\n",
    "\n",
    "## Introduction \n",
    "The Goods and Services Tax Bill proposed is one of the most important tax reform which would have a positive impact on the Indian economy. Goods and Services Tax can be defined as consumption based tax which is levied when a consumer buys goods or services. More than 150 countries have already adopted GST.\n",
    "GST is being introduced majorly for two reasons\n",
    "  1: The current indirect taxation structure is full of uncertainties due to multiple rates\n",
    "  2: Due to multiple rates there are multiple reforms and intern cumbersome compliances. \n",
    "\n",
    "This would ease taxation structure and would provide a unified taxation approach. We can say through this reform transparency would be achieved.\n",
    "\t\n",
    "  There is a tension created among the state legislatures, since the taxes imposed by state governments like for example “Value added Tax” (VAT) would be abolished and the states would lose in the revenue front. This has been rightly answered by the Article 246A “Transfer of power to the States” implying the state legislatures will have power to make laws with respect to goods and services tax imposed by union or state.\n",
    "GST is a single umbrella tax. Implementation of GST would result in amalgamation of the union and state level taxes.\n",
    "\n",
    "The taxes considered for inclusion are mentioned below\n",
    "\n",
    "UNION TAXES                     STATE TAXES\n",
    "Central Excise                 Duty\tVAT/Sales Tax\n",
    "Addition Excise Duty           Octroi and Entry Tax\n",
    "Service Tax\t                   Purchase Tax\n",
    "Additional Duty on Customs\t   State cesses/Surcharges\n",
    "\n",
    "The GST will be administered by a council which would consist of union finance minister as the chairman, union minister of state in charge of revenue or finance, minister in charge of finance or taxation. The spirit of constitution will be maintained by this structure and democratic decisions would be taken. The objective of GST council is to decide which goods/services are subject to GST, which state/union taxes would be included in GST. Dispute Central Authority would resolve the disputes between central and states in regards to GST if the state is not content about the share in GST.\n",
    " \n",
    "## WHY?\n",
    "In view of the above information presented by the government on GST. We want to answer the question through Data “Is GST welcomed warmly by all the media Houses?” \n",
    "\t\t\n",
    "\n",
    "\n",
    "## Approach and Methodology\n",
    "\n",
    "We want to give a data proof through sentiment analysis of the media houses on the proposed GST Bill. In order to avoid sampling bias we have picked three online news sources namely  “Hindustan Times” ”Indian Express” and “Live Mint” . The idea is to web scrape articles pertaining to these sources and to perform methods to get the polarity of each document and then to categorize them into positive, neutral and negative. The majority among the sentiments would serve as a proxy to indicate the current sentiment of media houses towards GST.\n",
    "\n",
    "#### Data Collection through Google API\n",
    "\n",
    "The analysis of the data is done through python (specific Jupiter notebook). The\tdata is extracted from online media houses through google search application programming interface. The top articles pertaining to GST are picked up. We picked 57 articles which are relevant to the context of GST. \n",
    "\n",
    "#### Data Cleaning\n",
    "\n",
    "The textual data was really messy and has to come with some cleaning methods. The cleaning methods included removal numbers, punctuations, tags, url’s ,non-asci characters, newline constants , tab space constants, extra spaces. This was cleaned through by writing regular expressions by looking at some of the patterns. The cleansed data was then stored into a data frame which contained URL location from where the data was collected along with cleansed text.\n",
    "\n",
    "##### Data Analysis\n",
    "\n",
    "The cleansed data from the previous stage was fed into a model called which would tokenize the text and give us polarity based on the context of the text. The package called “textblob” reads in the cleansed text and gives the sentiment based on the polarity. A positive polarity indicates positive sentiment, a negative polarity indicates negative and a zero polarity indicates neutral sentiment. Out of the 57 rows of text, 54 were classified as positive, 2 as negative and 1 as neutral. This result seems obvious given the benefits of the scheme to both government and to the people. We have arrived at a win-win situation for both the sides. The results are only indication of current acceptance of the media.\n",
    "\n",
    "#### Technology stack: python, IPython Notebook\n",
    "\n",
    "## Conclusion\n",
    "The analysis on the top media houses from randomized articles on GST suggest that the media by far is positively inclined towards Goods and services and task. Alas at least the unified tax system unifies the top media houses on their views.\n",
    "\n"
   ]
  },
  {
   "cell_type": "markdown",
   "metadata": {},
   "source": [
    "## Importing required packages For Conducting Sentimental Analysis"
   ]
  },
  {
   "cell_type": "code",
   "execution_count": null,
   "metadata": {
    "collapsed": true
   },
   "outputs": [],
   "source": [
    "\n",
    "from bs4 import BeautifulSoup\n",
    "import requests\n",
    "from google import search\n",
    "import re\n",
    "import os\n",
    "from urllib.request import Request,  urlopen\n",
    "import pandas as pd\n",
    "from textblob import TextBlob\n",
    "from nltk.corpus import stopwords\n",
    "import string\n",
    "import seaborn as sns\n",
    "import matplotlib.pyplot as plt\n",
    "%matplotlib inline"
   ]
  },
  {
   "cell_type": "markdown",
   "metadata": {},
   "source": [
    "## Defining a html parser to get the text of the content from website"
   ]
  },
  {
   "cell_type": "code",
   "execution_count": 4,
   "metadata": {
    "collapsed": false
   },
   "outputs": [],
   "source": [
    "def requestPage(url): \n",
    "    try:\n",
    "        response = requests.get(url)  \n",
    "        page  = BeautifulSoup(response.text, 'html.parser')\n",
    "        return page\n",
    "        \n",
    "    except(ConnectionError, Exception) as e:\n",
    "        print(\"Exception is :\", e)\n"
   ]
  },
  {
   "cell_type": "code",
   "execution_count": 5,
   "metadata": {
    "collapsed": true
   },
   "outputs": [],
   "source": [
    "#initializing the randomized media houses.\n",
    "topMediaHouses=['hindustantimes','indianexpress','livemint']"
   ]
  },
  {
   "cell_type": "markdown",
   "metadata": {},
   "source": [
    "## Using Google Search API getting the data regarding GST"
   ]
  },
  {
   "cell_type": "code",
   "execution_count": 9,
   "metadata": {
    "collapsed": false
   },
   "outputs": [],
   "source": [
    "search_terms=topMediaHouses\n",
    "for sterm in search_terms:\n",
    "    urllist = []\n",
    "    for url in search(\"GST \"+sterm, tld='co.in', lang='en', stop=15):\n",
    "        url = re.sub(\"#.*$\",\"\",url)\n",
    "        url = re.sub(\".*.pdf$\",\"https://www.google.co.in/\",url) # remove pdf links\n",
    "        urllist.append(url)\n"
   ]
  },
  {
   "cell_type": "markdown",
   "metadata": {},
   "source": [
    "## Storing the set of urls from the search into a csv file"
   ]
  },
  {
   "cell_type": "code",
   "execution_count": 13,
   "metadata": {
    "collapsed": false
   },
   "outputs": [],
   "source": [
    "Newslist=pd.DataFrame({'url':urllist})\n",
    "Newslist.to_csv(\"Newslist.csv\")"
   ]
  },
  {
   "cell_type": "code",
   "execution_count": 17,
   "metadata": {
    "collapsed": false
   },
   "outputs": [
    {
     "data": {
      "text/html": [
       "<div>\n",
       "<table border=\"1\" class=\"dataframe\">\n",
       "  <thead>\n",
       "    <tr style=\"text-align: right;\">\n",
       "      <th></th>\n",
       "      <th>0</th>\n",
       "      <th>url</th>\n",
       "    </tr>\n",
       "  </thead>\n",
       "  <tbody>\n",
       "    <tr>\n",
       "      <th>0</th>\n",
       "      <td>1</td>\n",
       "      <td>http://www.newindianexpress.com/nation/2016/no...</td>\n",
       "    </tr>\n",
       "    <tr>\n",
       "      <th>1</th>\n",
       "      <td>2</td>\n",
       "      <td>http://www.hindustantimes.com/opinion/a-delay-...</td>\n",
       "    </tr>\n",
       "    <tr>\n",
       "      <th>2</th>\n",
       "      <td>3</td>\n",
       "      <td>http://www.newindianexpress.com/business/2016/...</td>\n",
       "    </tr>\n",
       "    <tr>\n",
       "      <th>3</th>\n",
       "      <td>4</td>\n",
       "      <td>http://www.hindustantimes.com/business-news/je...</td>\n",
       "    </tr>\n",
       "    <tr>\n",
       "      <th>4</th>\n",
       "      <td>5</td>\n",
       "      <td>http://indianexpress.com/article/explained/gst...</td>\n",
       "    </tr>\n",
       "  </tbody>\n",
       "</table>\n",
       "</div>"
      ],
      "text/plain": [
       "   0                                                url\n",
       "0  1  http://www.newindianexpress.com/nation/2016/no...\n",
       "1  2  http://www.hindustantimes.com/opinion/a-delay-...\n",
       "2  3  http://www.newindianexpress.com/business/2016/...\n",
       "3  4  http://www.hindustantimes.com/business-news/je...\n",
       "4  5  http://indianexpress.com/article/explained/gst..."
      ]
     },
     "execution_count": 17,
     "metadata": {},
     "output_type": "execute_result"
    }
   ],
   "source": [
    "newslist=pd.read_csv(\"Newslist.csv\")\n",
    "newslist.head()"
   ]
  },
  {
   "cell_type": "markdown",
   "metadata": {},
   "source": [
    "## Cleaning and preprocessing the text."
   ]
  },
  {
   "cell_type": "code",
   "execution_count": null,
   "metadata": {
    "collapsed": false
   },
   "outputs": [],
   "source": [
    "ExtractedText=[]\n",
    "cleanr = re.compile('<.*?>')\n",
    "for url in  newslist['url']:\n",
    "    page=requestPage(url)\n",
    "    page.select('p')\n",
    "    cleantext = re.sub(cleanr, '', str(page.select('p')))\n",
    "    cleantext=re.sub(r'[^\\x00-\\x7F]','', cleantext)\n",
    "    cleantext=re.sub('[0-9]+', '', cleantext)\n",
    "    cleantext=re.sub(\"\\\\\\\\u\",'',cleantext.encode('utf-8'))\n",
    "    cleantext=re.sub(\"\\|\",'',cleantext)\n",
    "    cleantext=re.sub(\"\\\\\\\\xe\",'',cleantext)\n",
    "    cleantext=re.sub(\"\\\\\\\\n\",'',cleantext)\n",
    "    cleantext=re.sub(\"\\\\\\\\t\",'',cleantext)\n",
    "    cleantext=re.sub(\"\\\\\\\\r\",'',cleantext)\n",
    "    cleantext=re.sub(\"\\\\\\\\xa\",'',cleantext)\n",
    "    # Remove Punctuation and split 's, 't, 've with a space for filter\n",
    "    cleantext = re.sub(r'['+string.punctuation+']+', ' ', cleantext)\n",
    "    # Remove hyperlinks\n",
    "    cleantext = re.sub(r'https?:\\/\\/.*\\/\\w*','',cleantext)\n",
    "    #Remove any whitespace at the front of the sentence\n",
    "    cleantext=cleantext.lstrip(' ')\n",
    "    # Remove multiple whitespace\n",
    "    cleantext= re.sub(' +',' ',cleantext)\n",
    "    ExtractedText.append(cleantext)"
   ]
  },
  {
   "cell_type": "markdown",
   "metadata": {},
   "source": [
    "## Storing the Extracted text into a csv file"
   ]
  },
  {
   "cell_type": "code",
   "execution_count": null,
   "metadata": {
    "collapsed": false
   },
   "outputs": [],
   "source": [
    "PracticumData=pd.DataFrame({'url':newslist['url'],'text':ExtractedText})\n",
    "PracticumData.to_csv(\"practicumData.csv\")"
   ]
  },
  {
   "cell_type": "code",
   "execution_count": 120,
   "metadata": {
    "collapsed": false
   },
   "outputs": [
    {
     "data": {
      "text/html": [
       "<div>\n",
       "<table border=\"1\" class=\"dataframe\">\n",
       "  <thead>\n",
       "    <tr style=\"text-align: right;\">\n",
       "      <th></th>\n",
       "      <th>Unnamed: 0</th>\n",
       "      <th>text</th>\n",
       "      <th>url</th>\n",
       "    </tr>\n",
       "  </thead>\n",
       "  <tbody>\n",
       "    <tr>\n",
       "      <th>0</th>\n",
       "      <td>0</td>\n",
       "      <td>[             By Express News Service         ...</td>\n",
       "      <td>http://www.newindianexpress.com/nation/2016/no...</td>\n",
       "    </tr>\n",
       "    <tr>\n",
       "      <th>1</th>\n",
       "      <td>1</td>\n",
       "      <td>[The storm over demonetisation and lack of con...</td>\n",
       "      <td>http://www.hindustantimes.com/opinion/a-delay-...</td>\n",
       "    </tr>\n",
       "    <tr>\n",
       "      <th>2</th>\n",
       "      <td>2</td>\n",
       "      <td>[            By M RajendranExpress News Servic...</td>\n",
       "      <td>http://www.newindianexpress.com/business/2016/...</td>\n",
       "    </tr>\n",
       "    <tr>\n",
       "      <th>3</th>\n",
       "      <td>3</td>\n",
       "      <td>[Indias gems and jewellery industry wants the ...</td>\n",
       "      <td>http://www.hindustantimes.com/business-news/je...</td>\n",
       "    </tr>\n",
       "    <tr>\n",
       "      <th>4</th>\n",
       "      <td>4</td>\n",
       "      <td>[ The Bill has been described as a reform meas...</td>\n",
       "      <td>http://indianexpress.com/article/explained/gst...</td>\n",
       "    </tr>\n",
       "  </tbody>\n",
       "</table>\n",
       "</div>"
      ],
      "text/plain": [
       "   Unnamed: 0                                               text  \\\n",
       "0           0  [             By Express News Service         ...   \n",
       "1           1  [The storm over demonetisation and lack of con...   \n",
       "2           2  [            By M RajendranExpress News Servic...   \n",
       "3           3  [Indias gems and jewellery industry wants the ...   \n",
       "4           4  [ The Bill has been described as a reform meas...   \n",
       "\n",
       "                                                 url  \n",
       "0  http://www.newindianexpress.com/nation/2016/no...  \n",
       "1  http://www.hindustantimes.com/opinion/a-delay-...  \n",
       "2  http://www.newindianexpress.com/business/2016/...  \n",
       "3  http://www.hindustantimes.com/business-news/je...  \n",
       "4  http://indianexpress.com/article/explained/gst...  "
      ]
     },
     "execution_count": 120,
     "metadata": {},
     "output_type": "execute_result"
    }
   ],
   "source": [
    "PracticumData=pd.read_csv(\"practicumData.csv\")\n",
    "PracticumData.head()"
   ]
  },
  {
   "cell_type": "markdown",
   "metadata": {},
   "source": [
    "## Calculating polarity of each article and categorizing them into corresponding sentiments"
   ]
  },
  {
   "cell_type": "code",
   "execution_count": 121,
   "metadata": {
    "collapsed": false
   },
   "outputs": [],
   "source": [
    "# Find polarity and subjectivity of the reviews ( sentiment analysis)\n",
    "# The x in the lambda function is a row (because I set axis=1)\n",
    "# Apply iterates the function accross the dataframe's rows\n",
    "PracticumData['polarity'] = PracticumData.text.apply(lambda s: TextBlob(s).sentiment.polarity)\n",
    "PracticumData['subjectivity'] = PracticumData.text.apply(lambda s: TextBlob(s).sentiment.subjectivity)\n",
    "PracticumData['len_words'] = PracticumData.text.apply(lambda x: len(TextBlob(x).words))\n",
    "PracticumData['len_sentences'] = PracticumData.text.apply(lambda x: len(TextBlob(x).sentences))\n",
    "PracticumData['words_per_sentence'] = PracticumData.len_words / PracticumData.len_sentences\n",
    "PracticumData.head(5) \n",
    "\n",
    "\n",
    "#Mapping sentiments as positive, negative and neutral\n",
    "def sentiment(desc):\n",
    "  if desc['polarity'] > 0:\n",
    "    return 'positive'\n",
    "  elif desc['polarity'] < 0:\n",
    "    return 'negative'\n",
    "  elif desc['polarity'] == 0:\n",
    "    return 'zero'\n",
    "  else:\n",
    "    return 'Undefined'\n",
    "\n",
    "PracticumData['sentiments'] = PracticumData.apply(sentiment, axis = 1)\n",
    "PracticumData.head()\n",
    "\n",
    "PracticumData.to_csv(\"Newslist_With_Polarity.csv\")\n",
    "\n",
    "\n",
    "    "
   ]
  },
  {
   "cell_type": "markdown",
   "metadata": {},
   "source": [
    "## Plotting the data and sentiments achieved."
   ]
  },
  {
   "cell_type": "code",
   "execution_count": 79,
   "metadata": {
    "collapsed": false
   },
   "outputs": [
    {
     "data": {
      "text/html": [
       "<div>\n",
       "<table border=\"1\" class=\"dataframe\">\n",
       "  <thead>\n",
       "    <tr style=\"text-align: right;\">\n",
       "      <th></th>\n",
       "      <th>Unnamed: 0</th>\n",
       "      <th>text</th>\n",
       "      <th>url</th>\n",
       "      <th>polarity</th>\n",
       "      <th>subjectivity</th>\n",
       "      <th>len_words</th>\n",
       "      <th>len_sentences</th>\n",
       "      <th>words_per_sentence</th>\n",
       "      <th>sentiments</th>\n",
       "    </tr>\n",
       "  </thead>\n",
       "  <tbody>\n",
       "    <tr>\n",
       "      <th>0</th>\n",
       "      <td>0</td>\n",
       "      <td>[             By Express News Service         ...</td>\n",
       "      <td>http://www.newindianexpress.com/nation/2016/no...</td>\n",
       "      <td>0.097716</td>\n",
       "      <td>0.454737</td>\n",
       "      <td>812</td>\n",
       "      <td>28</td>\n",
       "      <td>29.000000</td>\n",
       "      <td>positive</td>\n",
       "    </tr>\n",
       "    <tr>\n",
       "      <th>1</th>\n",
       "      <td>1</td>\n",
       "      <td>[The storm over demonetisation and lack of con...</td>\n",
       "      <td>http://www.hindustantimes.com/opinion/a-delay-...</td>\n",
       "      <td>0.077761</td>\n",
       "      <td>0.410918</td>\n",
       "      <td>765</td>\n",
       "      <td>28</td>\n",
       "      <td>27.321429</td>\n",
       "      <td>positive</td>\n",
       "    </tr>\n",
       "    <tr>\n",
       "      <th>2</th>\n",
       "      <td>2</td>\n",
       "      <td>[            By M RajendranExpress News Servic...</td>\n",
       "      <td>http://www.newindianexpress.com/business/2016/...</td>\n",
       "      <td>0.075561</td>\n",
       "      <td>0.399144</td>\n",
       "      <td>510</td>\n",
       "      <td>20</td>\n",
       "      <td>25.500000</td>\n",
       "      <td>positive</td>\n",
       "    </tr>\n",
       "    <tr>\n",
       "      <th>3</th>\n",
       "      <td>3</td>\n",
       "      <td>[Indias gems and jewellery industry wants the ...</td>\n",
       "      <td>http://www.hindustantimes.com/business-news/je...</td>\n",
       "      <td>0.144719</td>\n",
       "      <td>0.527162</td>\n",
       "      <td>340</td>\n",
       "      <td>15</td>\n",
       "      <td>22.666667</td>\n",
       "      <td>positive</td>\n",
       "    </tr>\n",
       "    <tr>\n",
       "      <th>4</th>\n",
       "      <td>4</td>\n",
       "      <td>[ The Bill has been described as a reform meas...</td>\n",
       "      <td>http://indianexpress.com/article/explained/gst...</td>\n",
       "      <td>0.068870</td>\n",
       "      <td>0.401455</td>\n",
       "      <td>701</td>\n",
       "      <td>26</td>\n",
       "      <td>26.961538</td>\n",
       "      <td>positive</td>\n",
       "    </tr>\n",
       "  </tbody>\n",
       "</table>\n",
       "</div>"
      ],
      "text/plain": [
       "   Unnamed: 0                                               text  \\\n",
       "0           0  [             By Express News Service         ...   \n",
       "1           1  [The storm over demonetisation and lack of con...   \n",
       "2           2  [            By M RajendranExpress News Servic...   \n",
       "3           3  [Indias gems and jewellery industry wants the ...   \n",
       "4           4  [ The Bill has been described as a reform meas...   \n",
       "\n",
       "                                                 url  polarity  subjectivity  \\\n",
       "0  http://www.newindianexpress.com/nation/2016/no...  0.097716      0.454737   \n",
       "1  http://www.hindustantimes.com/opinion/a-delay-...  0.077761      0.410918   \n",
       "2  http://www.newindianexpress.com/business/2016/...  0.075561      0.399144   \n",
       "3  http://www.hindustantimes.com/business-news/je...  0.144719      0.527162   \n",
       "4  http://indianexpress.com/article/explained/gst...  0.068870      0.401455   \n",
       "\n",
       "   len_words  len_sentences  words_per_sentence sentiments  \n",
       "0        812             28           29.000000   positive  \n",
       "1        765             28           27.321429   positive  \n",
       "2        510             20           25.500000   positive  \n",
       "3        340             15           22.666667   positive  \n",
       "4        701             26           26.961538   positive  "
      ]
     },
     "execution_count": 79,
     "metadata": {},
     "output_type": "execute_result"
    }
   ],
   "source": [
    "PracticumData.head()"
   ]
  },
  {
   "cell_type": "code",
   "execution_count": 116,
   "metadata": {
    "collapsed": false
   },
   "outputs": [
    {
     "data": {
      "image/png": "[encoded data removed]",
      "text/plain": [
       "<matplotlib.figure.Figure at 0x214595e1278>"
      ]
     },
     "metadata": {},
     "output_type": "display_data"
    }
   ],
   "source": [
    "#Plotting the sentiments\n",
    "plt.figure(figsize=(4,4))\n",
    "sns.set(style=\"whitegrid\", color_codes=True)\n",
    "sns.countplot(x=\"sentiments\", data=PracticumData,order=['zero','positive','negative']);\n"
   ]
  },
  {
   "cell_type": "markdown",
   "metadata": {},
   "source": [
    "## Conclusion\n",
    "\n",
    "The analysis on the top media houses from randomized articles on GST suggest that the media by far positive inclined towards Goods and services and task. Alas atleast the unified tax system unifies the top media houses on their views. "
   ]
  }
 ],
 "metadata": {
  "kernelspec": {
   "display_name": "Python 3",
   "language": "python",
   "name": "python3"
  },
  "language_info": {
   "codemirror_mode": {
    "name": "ipython",
    "version": 3
   },
   "file_extension": ".py",
   "mimetype": "text/x-python",
   "name": "python",
   "nbconvert_exporter": "python",
   "pygments_lexer": "ipython3",
   "version": "3.5.0"
  }
 },
 "nbformat": 4,
 "nbformat_minor": 1
}
