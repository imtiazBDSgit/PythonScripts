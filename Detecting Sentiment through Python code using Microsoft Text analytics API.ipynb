{
 "cells": [
  {
   "cell_type": "code",
   "execution_count": 1,
   "metadata": {
    "collapsed": true
   },
   "outputs": [],
   "source": [
    "# Simple program that demonstrates how to invoke Azure ML Text Analytics API: key phrases, language and sentiment detection.\n",
    "import urllib2\n",
    "import urllib\n",
    "import sys\n",
    "import base64\n",
    "import json\n",
    "\n"
   ]
  },
  {
   "cell_type": "code",
   "execution_count": 34,
   "metadata": {
    "collapsed": true
   },
   "outputs": [],
   "source": [
    "# Azure portal URL.\n",
    "def get_Sentiment(text):\n",
    "    #text=raw_input(\"enter the text for which you want to get sentiment\")\n",
    "    base_url = 'https://westus.api.cognitive.microsoft.com/'\n",
    "    # Your account key goes here.\n",
    "    account_key = '3b84af8a371a492fa774610dd8fa928c'\n",
    "\n",
    "    headers = {'Content-Type':'application/json', 'Ocp-Apim-Subscription-Key':account_key}\n",
    "            \n",
    "    input_texts = '{\"documents\":[{\"id\":\"for\",\"text\":'+'\"'+text+'\"'+'}]}'\n",
    "    # Detect sentiment.\n",
    "    batch_sentiment_url = base_url + 'text/analytics/v2.0/sentiment'\n",
    "    req = urllib2.Request(batch_sentiment_url, input_texts, headers) \n",
    "    response = urllib2.urlopen(req)\n",
    "    result = response.read()\n",
    "    obj = json.loads(result)\n",
    "    for sentiment_analysis in obj['documents']:\n",
    "        print('Sentiment ' + str(sentiment_analysis['id']) + ' text: ' + str(sentiment_analysis['score']))\n",
    "    \n"
   ]
  },
  {
   "cell_type": "code",
   "execution_count": 38,
   "metadata": {
    "collapsed": false
   },
   "outputs": [
    {
     "name": "stdout",
     "output_type": "stream",
     "text": [
      "enter the text you want to check the sentiment for :such an awesome place to live\n"
     ]
    }
   ],
   "source": [
    "text=raw_input(\"enter the text you want to check the sentiment for :\")\n",
    "\n"
   ]
  },
  {
   "cell_type": "code",
   "execution_count": 39,
   "metadata": {
    "collapsed": false
   },
   "outputs": [
    {
     "name": "stdout",
     "output_type": "stream",
     "text": [
      "Sentiment for text: 0.9458773\n"
     ]
    }
   ],
   "source": [
    "get_Sentiment(text)"
   ]
  },
  {
   "cell_type": "code",
   "execution_count": null,
   "metadata": {
    "collapsed": false
   },
   "outputs": [],
   "source": []
  },
  {
   "cell_type": "code",
   "execution_count": null,
   "metadata": {
    "collapsed": true
   },
   "outputs": [],
   "source": []
  }
 ],
 "metadata": {
  "kernelspec": {
   "display_name": "Python 2",
   "language": "python",
   "name": "python2"
  },
  "language_info": {
   "codemirror_mode": {
    "name": "ipython",
    "version": 2
   },
   "file_extension": ".py",
   "mimetype": "text/x-python",
   "name": "python",
   "nbconvert_exporter": "python",
   "pygments_lexer": "ipython2",
   "version": "2.7.11"
  }
 },
 "nbformat": 4,
 "nbformat_minor": 0
}
